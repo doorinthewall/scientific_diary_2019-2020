{
 "cells": [
  {
   "cell_type": "markdown",
   "metadata": {},
   "source": [
    "# scientific_diary_2019-2020\n",
    "\n",
    "## Статьи\n",
    "_____________\n",
    "[SEMI-SUPERVISED CLASSIFICATION WITH\n",
    "GRAPH CONVOLUTIONAL NETWORKS (2017)](https://openreview.net/pdf?id=SJU4ayYgl) --- Authors propose new type of convolution layers which also consider information extracted from graph through normalized Laplacian of that graph. Convolutions are calculated as follows: <img src=\"./pics/GCN_layer.png\" width=\"30%\" ></img> <img src=\"./pics/A_det.png\" width=\"11%\" > <img src=\"./pics/D_det.png\" width=\"11%\" > \n",
    "where A - is adjacency matrix"
   ]
  },
  {
   "cell_type": "code",
   "execution_count": null,
   "metadata": {},
   "outputs": [],
   "source": []
  }
 ],
 "metadata": {
  "kernelspec": {
   "display_name": "Python 3",
   "language": "python",
   "name": "python3"
  },
  "language_info": {
   "codemirror_mode": {
    "name": "ipython",
    "version": 3
   },
   "file_extension": ".py",
   "mimetype": "text/x-python",
   "name": "python",
   "nbconvert_exporter": "python",
   "pygments_lexer": "ipython3",
   "version": "3.6.8"
  }
 },
 "nbformat": 4,
 "nbformat_minor": 2
}
